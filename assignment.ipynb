{
 "cells": [
  {
   "cell_type": "markdown",
   "metadata": {},
   "source": [
    "# Install necessary packages"
   ]
  },
  {
   "cell_type": "code",
   "execution_count": null,
   "metadata": {},
   "outputs": [],
   "source": [
    "!pip install numpy\n",
    "!pip install matplotlib\n",
    "!pip install pandas\n",
    "!pip install scipy\n",
    "!pip install pillow\n",
    "!pip install requests\n"
   ]
  },
  {
   "cell_type": "markdown",
   "metadata": {},
   "source": [
    "# Import required libraries"
   ]
  },
  {
   "cell_type": "code",
   "execution_count": null,
   "metadata": {},
   "outputs": [],
   "source": [
    "import numpy as np\n",
    "import matplotlib.pyplot as plt\n",
    "import pandas as pd\n",
    "import scipy\n",
    "import PIL\n",
    "import requests"
   ]
  },
  {
   "cell_type": "markdown",
   "metadata": {},
   "source": [
    "# Set a random seed for reproducibility\n",
    "# Generate data for x and y"
   ]
  },
  {
   "cell_type": "code",
   "execution_count": null,
   "metadata": {},
   "outputs": [],
   "source": [
    "np.random.seed(950)\n",
    "\n",
    "x = np.arange(50)\n",
    "y = np.random.randint(0,100,50)\n"
   ]
  },
  {
   "cell_type": "markdown",
   "metadata": {},
   "source": [
    "# Scatter Plot"
   ]
  },
  {
   "cell_type": "code",
   "execution_count": null,
   "metadata": {},
   "outputs": [],
   "source": [
    "fig, ax = plt.subplots(figsize=(5,3))\n",
    "ax.scatter(x,y)"
   ]
  },
  {
   "cell_type": "markdown",
   "metadata": {},
   "source": [
    "# Bar Plot"
   ]
  },
  {
   "cell_type": "code",
   "execution_count": null,
   "metadata": {},
   "outputs": [],
   "source": [
    "\n",
    "fig, ax = plt.subplots(figsize=(5,3))\n",
    "ax.bar(x,y)\n",
    "\n",
    "#Horizontal Plot\n",
    "#ax.barh(x,y)"
   ]
  },
  {
   "cell_type": "markdown",
   "metadata": {},
   "source": [
    "# Line Plot"
   ]
  },
  {
   "cell_type": "code",
   "execution_count": null,
   "metadata": {},
   "outputs": [],
   "source": [
    "fig, ax = plt.subplots(figsize=(5,3))\n",
    "ax.plot(x,y)"
   ]
  },
  {
   "cell_type": "markdown",
   "metadata": {},
   "source": [
    "# Histogram Plot"
   ]
  },
  {
   "cell_type": "code",
   "execution_count": null,
   "metadata": {},
   "outputs": [],
   "source": [
    "fig, ax = plt.subplots(figsize=(5,3))\n",
    "ax.hist(y)"
   ]
  },
  {
   "cell_type": "markdown",
   "metadata": {},
   "source": [
    "# Customize Plots "
   ]
  },
  {
   "cell_type": "code",
   "execution_count": null,
   "metadata": {},
   "outputs": [],
   "source": [
    "\n",
    "#Scatter Plot\n",
    "fig, ax = plt.subplots(figsize=(5,3))\n",
    "\n",
    "#fonts\n",
    "font1 = {'family':'sans-serif','color':'blue','size':20}\n",
    "font2 = {'family':'monospace','color':'green','size':14}\n",
    "\n",
    "\n",
    "#Labels\n",
    "ax.set_title('Total growth over time',fontdict = font1)\n",
    "ax.set_ylabel('Total growth',fontdict =  font2)\n",
    "ax.set_xlabel('Years since start',fontdict = font2)\n",
    "\n",
    "ax.scatter(x,y,marker='o',color=\"indigo\")\n",
    "\n",
    "fig.tight_layout()"
   ]
  },
  {
   "cell_type": "code",
   "execution_count": null,
   "metadata": {},
   "outputs": [],
   "source": [
    "#line plot\n",
    "\n",
    "fig, ax = plt.subplots(figsize=(5,3))\n",
    "\n",
    "#fonts\n",
    "font1 = {'family':'sans-serif','color':'blue','size':20}\n",
    "font2 = {'family':'monospace','color':'green','size':14}\n",
    "\n",
    "\n",
    "#Labels\n",
    "ax.set_title('Total growth over time',fontdict = font1)\n",
    "ax.set_ylabel('Total growth',fontdict =  font2)\n",
    "ax.set_xlabel('Years since start',fontdict = font2)\n",
    "\n",
    "ax.plot(x,y,marker='o',color=\"indigo\",linestyle=\"--\",linewidth = 1)\n",
    "\n",
    "fig.tight_layout()"
   ]
  },
  {
   "cell_type": "code",
   "execution_count": null,
   "metadata": {},
   "outputs": [],
   "source": [
    "#line plot with grids\n",
    "\n",
    "fig, ax = plt.subplots(figsize=(5,3))\n",
    "\n",
    "#fonts\n",
    "font1 = {'family':'sans-serif','color':'blue','size':20}\n",
    "font2 = {'family':'monospace','color':'green','size':14}\n",
    "\n",
    "\n",
    "#Labels\n",
    "ax.set_title('Total growth over time',fontdict = font1)\n",
    "ax.set_ylabel('Total growth',fontdict =  font2)\n",
    "ax.set_xlabel('Years since start',fontdict = font2)\n",
    "\n",
    "ax.plot(x,y,marker='o',color=\"indigo\",linestyle=\"--\",linewidth = 1)\n",
    "ax.grid(axis='y',color=\"red\",linewidth=2,linestyle='dotted')\n",
    "\n",
    "fig.tight_layout()"
   ]
  }
 ],
 "metadata": {
  "kernelspec": {
   "display_name": "Python 3",
   "language": "python",
   "name": "python3"
  },
  "language_info": {
   "codemirror_mode": {
    "name": "ipython",
    "version": 3
   },
   "file_extension": ".py",
   "mimetype": "text/x-python",
   "name": "python",
   "nbconvert_exporter": "python",
   "pygments_lexer": "ipython3",
   "version": "3.11.5"
  },
  "orig_nbformat": 4
 },
 "nbformat": 4,
 "nbformat_minor": 2
}
