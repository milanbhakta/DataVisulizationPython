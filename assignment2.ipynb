{
 "cells": [
  {
   "cell_type": "markdown",
   "metadata": {},
   "source": [
    "https://public.tableau.com/app/profile/phyllis.tay/viz/AReintegrationJourney/LowStableRecidivismRate\n",
    "\n",
    "# Good Visulization\n",
    "\n",
    "Imagine taking a journey through numbers that reveal how often people in Singapore go back to crime. This journey, known as \"A Reintegration Journey,\" is like a story created from these numbers. It does a pretty good job of making complicated information easy to understand, but there are a few bumps along the way.\n",
    "\n",
    "At the start of our journey, things look promising. The title, \"A Reintegration Journey,\" tells us that there are real people behind these numbers. You can click on things to get more information, like having helpful friends while traveling. The numbers are labeled clearly, like signs on the road, so you don't get lost in the information. However, sometimes the journey gets a bit messy. There are too many things on the page, like too many shops in a busy market. It can be confusing. It would be better if things were simpler and easier to follow, like walking in a quiet park.\n",
    "\n",
    "Another challenge is that sometimes the journey uses difficult words. Words like \"SIR\" and \"2-Year Recidivism Rate\" might be confusing for someone new to these topics. It would be better if there were short explanations for these words, like having a guide who speaks your language. Despite these small problems, \"A Reintegration Journey\" still tells the story well. It tries to help you understand without using too many hard words. There's some information that makes the story better, like colorful pictures, although they could be a bit better organized.\n",
    "\n",
    "In the end, \"A Reintegration Journey\" is like a good story made from numbers. It tries to be simple and interesting, like a friend helping you understand. If they fix the small issues, it can become even better at helping everyone understand the numbers about people going back to crime in Singapore. So, even with some bumps, it's a journey worth taking for a clearer understanding of these important facts."
   ]
  },
  {
   "cell_type": "markdown",
   "metadata": {},
   "source": [
    "https://public.tableau.com/app/profile/jared.braggins2936/viz/JobHistory_15568444434680/Skills_Dashboard\n",
    "\n",
    "# Bad Visulization\n",
    "\n",
    "\n",
    "Is the \"Job History Skills Dashboard\" really a helpful guide on our journey of personal growth, or is it more like a confusing maze? The idea of mapping our skill development over time is interesting, making us feel connected and engaged in our professional story. However, relying on self-reported data feels a bit like navigating a map based solely on personal memories – it introduces uncertainty. The lack of clear benchmarks and external validation makes our skill development picture somewhat subjective and maybe not entirely trustworthy.\n",
    "\n",
    "The visual presentation of the dashboard adds to the confusion. It becomes a cluttered trail with overlapping text, multiple charts, and unclear connections. Imagine trying to read a map filled with symbols instead of clear landmarks – it's not easy. This information overload makes it challenging to follow our skill progression narrative, turning the journey into something more confusing than enlightening.\n",
    "\n",
    "The color scheme adds another layer of complexity. The gradient representing skill levels isn't very intuitive and could lead to misinterpretations. It's a bit like following a color-coded hiking trail where the colors change randomly, leaving us unsure if we're heading towards success or the opposite.\n",
    "\n",
    "What makes the journey even trickier is the lack of context. We're left with questions about where the data comes from, how it was collected, and what the visualization is really for. This missing information creates a feeling of being adrift, navigating through a sea of data without a clear destination or purpose.\n",
    "\n",
    "In conclusion, while the \"Job History Skills Dashboard\" has the potential for a personalized journey, it falls short of delivering an insightful experience. Depending on subjective data, coupled with a cluttered layout and a confusing color scheme, turns what could be a helpful tool into a bit of a challenge. A revamp focusing on clarity, context, and straightforward data representation is needed for the dashboard to truly help us showcase and understand our personal skill development. Until then, it's a missed opportunity to make our professional journey more meaningful."
   ]
  }
 ],
 "metadata": {
  "language_info": {
   "name": "python"
  },
  "orig_nbformat": 4
 },
 "nbformat": 4,
 "nbformat_minor": 2
}
